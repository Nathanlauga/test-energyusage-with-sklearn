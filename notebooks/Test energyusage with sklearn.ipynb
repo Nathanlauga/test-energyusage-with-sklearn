{
 "cells": [
  {
   "cell_type": "markdown",
   "metadata": {},
   "source": [
    "Test `energyusage` with sklearn\n",
    "------\n",
    "\n",
    "This notebook is used to see if `energyusage` can work on `sklearn` package and so compute energy consumption of a the `fit()` function.\n",
    "\n",
    "### Load packages"
   ]
  },
  {
   "cell_type": "code",
   "execution_count": 1,
   "metadata": {},
   "outputs": [],
   "source": [
    "import energyusage\n",
    "import numpy as np\n",
    "\n",
    "from sklearn.tree import DecisionTreeClassifier\n",
    "from sklearn.ensemble import RandomForestClassifier\n",
    "from sklearn.datasets import load_iris"
   ]
  },
  {
   "cell_type": "markdown",
   "metadata": {},
   "source": [
    "### Load data"
   ]
  },
  {
   "cell_type": "code",
   "execution_count": 2,
   "metadata": {},
   "outputs": [],
   "source": [
    "data = load_iris()"
   ]
  },
  {
   "cell_type": "markdown",
   "metadata": {},
   "source": [
    "### Repeat data so the `energyusage.evaluate` can be compute\n",
    "\n",
    "Since `iris` dataset is really small, only 150 samples I prefer to augment it since the `energyusage.evaluate` function needs some computation time to compute the energy consumption."
   ]
  },
  {
   "cell_type": "code",
   "execution_count": 3,
   "metadata": {},
   "outputs": [],
   "source": [
    "Y = np.repeat(data.target, 5000, axis=0)\n",
    "X = np.repeat(data.data, 5000, axis=0)"
   ]
  },
  {
   "cell_type": "markdown",
   "metadata": {},
   "source": [
    "### Create 2 classifiers to compare them\n",
    "\n",
    "I choose 2 classifier :\n",
    "1. `DecisionTreeClassifier` considered to be less complex in term of computation than the second one\n",
    "2. `RandomForestClassifier` more complex than the first"
   ]
  },
  {
   "cell_type": "code",
   "execution_count": 4,
   "metadata": {},
   "outputs": [],
   "source": [
    "clf1 = DecisionTreeClassifier()\n",
    "clf2 = RandomForestClassifier()"
   ]
  },
  {
   "cell_type": "markdown",
   "metadata": {},
   "source": [
    "### Fit classifiers and evaluate energy consumption"
   ]
  },
  {
   "cell_type": "code",
   "execution_count": 5,
   "metadata": {},
   "outputs": [
    {
     "name": "stdout",
     "output_type": "stream",
     "text": [
      "Location:                                                                 France\n",
      "Baseline wattage:                                                     5.28 watts\n",
      "Process wattage:                                                     12.85 watts\n",
      "\u001b[1A\u001b[1A--------------------------------------------------------------------------------\n",
      "-------------------------------  Final Readings  -------------------------------\n",
      "--------------------------------------------------------------------------------\n",
      "Average baseline wattage:                                             5.58 watts\n",
      "Average total wattage:                                               17.02 watts\n",
      "Average process wattage:                                             11.44 watts\n",
      "Process duration:                                                        0:00:00\n",
      "--------------------------------------------------------------------------------\n",
      "-------------------------------   Energy Data    -------------------------------\n",
      "--------------------------------------------------------------------------------\n",
      "                              Energy mix in France                              \n",
      "Coal:                                                                      3.12%\n",
      "Petroleum:                                                                16.06%\n",
      "Natural Gas:                                                              33.56%\n",
      "Low Carbon:                                                               47.26%\n",
      "--------------------------------------------------------------------------------\n",
      "-------------------------------    Emissions     -------------------------------\n",
      "--------------------------------------------------------------------------------\n",
      "Effective emission:                                              7.11e-07 kg CO2\n",
      "Equivalent miles driven:                                          2.91e-13 miles\n",
      "Equivalent minutes of 32-inch LCD TV watched:                   4.40e-04 minutes\n",
      "Percentage of CO2 used in a US household/day:                          2.34e-13%\n",
      "--------------------------------------------------------------------------------\n",
      "------------------------- Assumed Carbon Equivalencies -------------------------\n",
      "--------------------------------------------------------------------------------\n",
      "Coal:                                                      995.725971 kg CO2/MWh\n",
      "Petroleum:                                                816.6885263 kg CO2/MWh\n",
      "Natural gas:                                              743.8415916 kg CO2/MWh\n",
      "Low carbon:                                                         0 kg CO2/MWh\n",
      "--------------------------------------------------------------------------------\n",
      "-------------------------     Emissions Comparison     -------------------------\n",
      "--------------------------------------------------------------------------------\n",
      "                      Quantities below expressed in kg CO2                      \n",
      "        US                      Europe                  Global minus US/Europe\n",
      "Max:    Wyoming        1.54e-06 Kosovo         1.58e-06 Mongolia        1.55e-06\n",
      "Median: Tennessee      7.54e-07 Ukraine        1.10e-06 Korea, South    1.26e-06\n",
      "Min:    Vermont        4.32e-08 Iceland        2.84e-07 Bhutan          1.76e-07\n",
      "--------------------------------------------------------------------------------\n",
      "--------------------------------------------------------------------------------\n",
      "Process used:                                                       1.67e-06 kWh\n"
     ]
    }
   ],
   "source": [
    "clf1 = energyusage.evaluate(clf1.fit, X, Y, pdf=False)"
   ]
  },
  {
   "cell_type": "code",
   "execution_count": 6,
   "metadata": {},
   "outputs": [
    {
     "name": "stdout",
     "output_type": "stream",
     "text": [
      "Location:                                                                 France\n",
      "Baseline wattage:                                                     4.52 watts\n",
      "Process wattage:                                                     14.63 watts\n",
      "\u001b[1A\u001b[1A--------------------------------------------------------------------------------\n",
      "-------------------------------  Final Readings  -------------------------------\n",
      "--------------------------------------------------------------------------------\n",
      "Average baseline wattage:                                             7.30 watts\n",
      "Average total wattage:                                               14.45 watts\n",
      "Average process wattage:                                              7.14 watts\n",
      "Process duration:                                                        0:00:24\n",
      "--------------------------------------------------------------------------------\n",
      "-------------------------------   Energy Data    -------------------------------\n",
      "--------------------------------------------------------------------------------\n",
      "                              Energy mix in France                              \n",
      "Coal:                                                                      3.12%\n",
      "Petroleum:                                                                16.06%\n",
      "Natural Gas:                                                              33.56%\n",
      "Low Carbon:                                                               47.26%\n",
      "--------------------------------------------------------------------------------\n",
      "-------------------------------    Emissions     -------------------------------\n",
      "--------------------------------------------------------------------------------\n",
      "Effective emission:                                              2.62e-05 kg CO2\n",
      "Equivalent miles driven:                                          1.07e-11 miles\n",
      "Equivalent minutes of 32-inch LCD TV watched:                   1.62e-02 minutes\n",
      "Percentage of CO2 used in a US household/day:                          8.64e-12%\n",
      "--------------------------------------------------------------------------------\n",
      "------------------------- Assumed Carbon Equivalencies -------------------------\n",
      "--------------------------------------------------------------------------------\n",
      "Coal:                                                      995.725971 kg CO2/MWh\n",
      "Petroleum:                                                816.6885263 kg CO2/MWh\n",
      "Natural gas:                                              743.8415916 kg CO2/MWh\n",
      "Low carbon:                                                         0 kg CO2/MWh\n",
      "--------------------------------------------------------------------------------\n",
      "-------------------------     Emissions Comparison     -------------------------\n",
      "--------------------------------------------------------------------------------\n",
      "                      Quantities below expressed in kg CO2                      \n",
      "        US                      Europe                  Global minus US/Europe\n",
      "Max:    Wyoming        5.68e-05 Kosovo         5.83e-05 Mongolia        5.71e-05\n",
      "Median: Tennessee      2.78e-05 Ukraine        4.07e-05 Korea, South    4.66e-05\n",
      "Min:    Vermont        1.60e-06 Iceland        1.05e-05 Bhutan          6.49e-06\n",
      "--------------------------------------------------------------------------------\n",
      "--------------------------------------------------------------------------------\n",
      "Process used:                                                       6.18e-05 kWh\n"
     ]
    }
   ],
   "source": [
    "clf2 = energyusage.evaluate(clf2.fit, X, Y, pdf=False)"
   ]
  },
  {
   "cell_type": "markdown",
   "metadata": {},
   "source": [
    "### Check scores to be sure that models trained"
   ]
  },
  {
   "cell_type": "code",
   "execution_count": 7,
   "metadata": {},
   "outputs": [
    {
     "data": {
      "text/plain": [
       "1.0"
      ]
     },
     "execution_count": 7,
     "metadata": {},
     "output_type": "execute_result"
    }
   ],
   "source": [
    "clf1.score(X,Y)"
   ]
  },
  {
   "cell_type": "code",
   "execution_count": 8,
   "metadata": {},
   "outputs": [
    {
     "data": {
      "text/plain": [
       "1.0"
      ]
     },
     "execution_count": 8,
     "metadata": {},
     "output_type": "execute_result"
    }
   ],
   "source": [
    "clf2.score(X,Y)"
   ]
  },
  {
   "cell_type": "markdown",
   "metadata": {},
   "source": [
    "### Conclusion\n",
    "\n",
    "We can see that for the same dataset in training a less complex model `DecisionTreeClassifier` used **1.18e-06 kWh** compare to the `RandomForestClassifier` which used **6.66e-05 kWh**."
   ]
  }
 ],
 "metadata": {
  "kernelspec": {
   "display_name": "Python 3",
   "language": "python",
   "name": "python3"
  },
  "language_info": {
   "codemirror_mode": {
    "name": "ipython",
    "version": 3
   },
   "file_extension": ".py",
   "mimetype": "text/x-python",
   "name": "python",
   "nbconvert_exporter": "python",
   "pygments_lexer": "ipython3",
   "version": "3.6.10"
  }
 },
 "nbformat": 4,
 "nbformat_minor": 4
}
